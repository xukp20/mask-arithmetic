{
 "cells": [
  {
   "cell_type": "code",
   "execution_count": null,
   "metadata": {},
   "outputs": [],
   "source": [
    "from modeling_presheaf import LlamaForProof, LlamaProofConfig\n",
    "\n",
    "task_ids = {\n",
    "    \"de\": 101,\n",
    "    \"dr\": 102,\n",
    "    \"pp\": 103,\n",
    "    \"tp\": 104,\n",
    "}\n",
    "\n",
    "config = LlamaProofConfig(\n",
    "\n"
   ]
  },
  {
   "cell_type": "code",
   "execution_count": 4,
   "metadata": {},
   "outputs": [],
   "source": [
    "# test embedding\n",
    "import torch\n",
    "from torch import nn\n",
    "\n",
    "vocab_size = 20 * 10000\n",
    "hidden_state = 4096\n",
    "embedding_layer = nn.Embedding(vocab_size, hidden_state)\n",
    "embedding_layer = embedding_layer.cuda()"
   ]
  }
 ],
 "metadata": {
  "kernelspec": {
   "display_name": "train",
   "language": "python",
   "name": "python3"
  },
  "language_info": {
   "codemirror_mode": {
    "name": "ipython",
    "version": 3
   },
   "file_extension": ".py",
   "mimetype": "text/x-python",
   "name": "python",
   "nbconvert_exporter": "python",
   "pygments_lexer": "ipython3",
   "version": "3.11.8"
  }
 },
 "nbformat": 4,
 "nbformat_minor": 2
}
